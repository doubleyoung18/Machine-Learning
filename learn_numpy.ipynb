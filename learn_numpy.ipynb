{
 "cells": [
  {
   "cell_type": "code",
   "execution_count": 2,
   "metadata": {},
   "outputs": [
    {
     "name": "stdout",
     "output_type": "stream",
     "text": [
      "[[1 2 3]\n",
      " [2 3 4]]\n",
      "dimension of array: 2\n",
      "shape of array: (2, 3)\n",
      "size of array: 6\n"
     ]
    }
   ],
   "source": [
    "import numpy as np\n",
    "# numpy属性\n",
    "array = np.array([[1, 2, 3], [2, 3, 4]])\n",
    "print(array)\n",
    "print(\"dimension of array: {}\".format(array.ndim))  # 维度\n",
    "print(\"shape of array: {}\".format(array.shape))  # 行数和列数\n",
    "print(\"size of array: {}\".format(array.size))  # 元素个数"
   ]
  },
  {
   "cell_type": "code",
   "execution_count": 3,
   "metadata": {},
   "outputs": [
    {
     "name": "stdout",
     "output_type": "stream",
     "text": [
      "int64\n",
      "float64\n",
      "int32\n",
      "float32\n"
     ]
    }
   ],
   "source": [
    "# numpy指定数据dtype\n",
    "a = np.array([2, 3, 4], dtype=np.int)\n",
    "print(a.dtype)\n",
    "b = np.array([1, 2, 3], dtype=np.float)\n",
    "print(b.dtype)\n",
    "c = np.array([3, 4, 5], dtype=np.int32)\n",
    "print(c.dtype)\n",
    "d = np.array([5, 6, 7], dtype=np.float32)\n",
    "print(d.dtype)"
   ]
  },
  {
   "cell_type": "code",
   "execution_count": 40,
   "metadata": {},
   "outputs": [
    {
     "name": "stdout",
     "output_type": "stream",
     "text": [
      "[[1 2 3]\n",
      " [2 3 4]]\n",
      "[[0. 0.]\n",
      " [0. 0.]\n",
      " [0. 0.]]\n",
      "[[1 1]\n",
      " [1 1]\n",
      " [1 1]]\n",
      "[[0.93243211 0.1749326  0.67232838 0.47884234]\n",
      " [0.36753946 0.40500412 0.99411914 0.57625735]\n",
      " [0.76069719 0.54476337 0.73671924 0.13790724]]\n",
      "[10 12 14 16 18]\n",
      "[[ 0  1  2  3]\n",
      " [ 4  5  6  7]\n",
      " [ 8  9 10 11]]\n",
      "[ 1.          1.47368421  1.94736842  2.42105263  2.89473684  3.36842105\n",
      "  3.84210526  4.31578947  4.78947368  5.26315789  5.73684211  6.21052632\n",
      "  6.68421053  7.15789474  7.63157895  8.10526316  8.57894737  9.05263158\n",
      "  9.52631579 10.        ]\n",
      "[[ 1.          1.47368421  1.94736842  2.42105263]\n",
      " [ 2.89473684  3.36842105  3.84210526  4.31578947]\n",
      " [ 4.78947368  5.26315789  5.73684211  6.21052632]\n",
      " [ 6.68421053  7.15789474  7.63157895  8.10526316]\n",
      " [ 8.57894737  9.05263158  9.52631579 10.        ]]\n",
      "[[0.5421761  0.84461869 0.79889601 0.39783591]\n",
      " [0.5277078  0.31615336 0.66005626 0.01134943]]\n"
     ]
    }
   ],
   "source": [
    "# numpy创建指定数据\n",
    "a = np.array([[1, 2, 3], [2, 3, 4]])\n",
    "print(a)\n",
    "# 创建全0数组\n",
    "a = np.zeros((3, 2))\n",
    "print(a)\n",
    "# 创建全1数组，指定数据类型\n",
    "a = np.ones((3, 2), dtype=np.int)\n",
    "print(a)\n",
    "# 创建空数组，每个值都接近0\n",
    "a = np.empty((3, 4))\n",
    "print(a)\n",
    "# 创建连续数组\n",
    "a = np.arange(10, 20, 2)  # np.arange([begin,]end[,step])  [begin, end)\n",
    "print(a)\n",
    "# 改变形状\n",
    "a = np.arange(12).reshape((3, 4))\n",
    "print(a)\n",
    "# 创建线段型数据\n",
    "a = np.linspace(1, 10, 20)  # np.linspace(begin, end, num)  [begin, end]\n",
    "print(a)\n",
    "b = a.reshape((5, 4))\n",
    "print(b)\n",
    "# 创建随机矩阵\n",
    "a = np.random.random((2, 4))\n",
    "print(a)"
   ]
  },
  {
   "cell_type": "code",
   "execution_count": 108,
   "metadata": {},
   "outputs": [
    {
     "name": "stdout",
     "output_type": "stream",
     "text": [
      "[2 3]\n",
      "[2 3]\n",
      "[4 6]\n",
      "[4 6]\n",
      "[4 6]\n",
      "[0 0]\n",
      "[4 9]\n",
      "[4 9]\n",
      "[9.09297427 1.41120008]\n",
      "[False  True]\n",
      "13\n",
      "13\n"
     ]
    }
   ],
   "source": [
    "# numpy基本运算1\n",
    "a = np.array((2, 3))\n",
    "print(a)\n",
    "b = np.array((2, 3))\n",
    "print(b)\n",
    "# 加\n",
    "c = a + b  # (1)\n",
    "print(c)\n",
    "c = np.add(a, b)  # (2)\n",
    "print(c)\n",
    "np.add(a, b, out=c)  # (3)\n",
    "print(c)\n",
    "# 效率(3) > (2) > (1)\n",
    "# 减\n",
    "c = a - b\n",
    "print(c)\n",
    "# 对应位置元素相乘\n",
    "c = a * b\n",
    "print(c)\n",
    "# 各个元素乘方\n",
    "c = a ** 2\n",
    "print(c)\n",
    "# 三角函数\n",
    "c = 10 * np.sin(a)\n",
    "print(c)\n",
    "# 逻辑判断\n",
    "print(c < 3)\n",
    "# 矩阵乘(两种表达形式)\n",
    "c_dot = np.dot(a, b)\n",
    "print(c_dot)\n",
    "c_dot = a.dot(b)\n",
    "print(c_dot)"
   ]
  },
  {
   "cell_type": "code",
   "execution_count": 102,
   "metadata": {},
   "outputs": [
    {
     "name": "stdout",
     "output_type": "stream",
     "text": [
      "[[1 2 3]\n",
      " [2 3 4]]\n",
      "15\n",
      "4\n",
      "1\n",
      "[6 9]\n",
      "0\n",
      "5\n",
      "2.5\n",
      "[1.5 2.5 3.5]\n",
      "[ 1  3  6  8 11 15]\n",
      "[[1 1]\n",
      " [1 1]]\n",
      "(array([0, 0, 0, 1, 1, 1]), array([0, 1, 2, 0, 1, 2]))\n",
      "[[1 2 3]\n",
      " [2 3 4]]\n",
      "[[1 2]\n",
      " [2 3]\n",
      " [3 4]]\n",
      "[[2 2 3]\n",
      " [2 3 3]]\n"
     ]
    }
   ],
   "source": [
    "# numpy基本运算2\n",
    "# max,min,sum\n",
    "a = np.array([[1, 2, 3], [2, 3, 4]])\n",
    "print(a)\n",
    "print(a.sum())  # np.sum(a)\n",
    "print(a.max())  # np.max(a)\n",
    "print(a.min())  # np.min(a)\n",
    "# axis=0 以列为查找单元\n",
    "# axis=1 以行为查找单元\n",
    "print(a.sum(axis=1))  # np.sum(a, axis=1)\n",
    "# 最小元素索引\n",
    "print(a.argmin())  # np.argmin(a)\n",
    "# 最大元素索引\n",
    "print(a.argmax())  # np.argmax(a)\n",
    "# 求均值\n",
    "print(a.mean())  # np.mean(a)\n",
    "# 求中位数\n",
    "print(np.median(a, axis=0))  # a.median() error\n",
    "# cumsum()生成的每一项矩阵元素是从原矩阵首项累加到对应项的元素之和\n",
    "print(np.cumsum(a))\n",
    "# diff()生成的每一项矩阵元素是原矩阵每一行中后项与前项之差\n",
    "print(np.diff(a))\n",
    "# nonzero()将原矩阵中所有非零元素的行和列分开\n",
    "print(np.nonzero(a))\n",
    "# 行排序sort()\n",
    "print(np.sort(a))\n",
    "# 转置\n",
    "print(np.transpose(a))\n",
    "# clip(Array, Array_min, Array_max)将矩阵中小于Array_min的值转换为Array_min,\n",
    "# 大于Array_max的值转换为Array_max\n",
    "print(np.clip(a, 2, 3))"
   ]
  },
  {
   "cell_type": "code",
   "execution_count": 105,
   "metadata": {},
   "outputs": [
    {
     "name": "stdout",
     "output_type": "stream",
     "text": [
      "[ 3  4  5  6  7  8  9 10 11 12 13 14]\n",
      "14\n",
      "[[ 3  4  5  6]\n",
      " [ 7  8  9 10]\n",
      " [11 12 13 14]]\n",
      "8\n",
      "8\n",
      "[8 9]\n",
      "[3 4 5 6]\n",
      "[ 7  8  9 10]\n",
      "[11 12 13 14]\n",
      "[3 4 5 6]\n",
      "[ 7  8  9 10]\n",
      "[11 12 13 14]\n",
      "3\n",
      "4\n",
      "5\n",
      "6\n",
      "7\n",
      "8\n",
      "9\n",
      "10\n",
      "11\n",
      "12\n",
      "13\n",
      "14\n"
     ]
    }
   ],
   "source": [
    "# numpy索引\n",
    "A = np.arange(3, 15)\n",
    "print(A)\n",
    "# 一维索引\n",
    "print(A[-1])\n",
    "A = A.reshape((3, 4))\n",
    "print(A)\n",
    "# 二维索引\n",
    "print(A[1][1])\n",
    "print(A[1,1])\n",
    "print(A[1, 1:3])\n",
    "# 逐行打印\n",
    "for row in A:\n",
    "    print(row)\n",
    "# 逐列打印\n",
    "for col in A:\n",
    "    print(col)\n",
    "# 迭代打印\n",
    "for item in A.flatten():  # same as A.flat / A.ravel() 把原矩阵展开成一维\n",
    "# 注：flatten()会进行深拷贝，ravel()会进行浅拷贝，后者效率更高\n",
    "    print(item)"
   ]
  },
  {
   "cell_type": "code",
   "execution_count": 88,
   "metadata": {},
   "outputs": [
    {
     "name": "stdout",
     "output_type": "stream",
     "text": [
      "[[1 2 3]\n",
      " [2 3 4]]\n",
      "[1 2 3 2 3 4]\n",
      "[[1 2 3]]\n",
      "(1, 3)\n",
      "[[1]\n",
      " [2]\n",
      " [3]]\n",
      "(3, 1)\n",
      "[1 2 3]\n",
      "[[1]\n",
      " [2]\n",
      " [3]\n",
      " [2]\n",
      " [3]\n",
      " [4]\n",
      " [2]\n",
      " [3]\n",
      " [4]\n",
      " [1]\n",
      " [2]\n",
      " [3]]\n",
      "[[1 2 2 1]\n",
      " [2 3 3 2]\n",
      " [3 4 4 3]]\n"
     ]
    }
   ],
   "source": [
    "# numpy array合并\n",
    "A = np.array([1, 2, 3])\n",
    "B = np.array([2, 3, 4])\n",
    "# 上下合并\n",
    "print(np.vstack((A, B)))\n",
    "# 左右合并\n",
    "print(np.hstack((A, B)))\n",
    "# 行列向量转置\n",
    "print(A[np.newaxis,:])  # 行向量\n",
    "print(A[np.newaxis,:].shape)\n",
    "print(A[:,np.newaxis])  # 列向量\n",
    "print(A[:,np.newaxis].shape)\n",
    "print(np.transpose(A))\n",
    "# 多矩阵合并\n",
    "A = A[:,np.newaxis]\n",
    "B = B[:,np.newaxis]\n",
    "D = np.concatenate((A, B, B, A), axis=0)\n",
    "print(D)\n",
    "D = np.concatenate((A, B, B, A), axis=1)\n",
    "print(D)"
   ]
  },
  {
   "cell_type": "code",
   "execution_count": 96,
   "metadata": {},
   "outputs": [
    {
     "name": "stdout",
     "output_type": "stream",
     "text": [
      "[[ 3  4  5  6]\n",
      " [ 7  8  9 10]\n",
      " [11 12 13 14]]\n",
      "[array([[ 3,  4],\n",
      "       [ 7,  8],\n",
      "       [11, 12]]), array([[ 5,  6],\n",
      "       [ 9, 10],\n",
      "       [13, 14]])]\n",
      "[array([[3, 4, 5, 6]]), array([[ 7,  8,  9, 10]]), array([[11, 12, 13, 14]])]\n",
      "[array([[ 3,  4],\n",
      "       [ 7,  8],\n",
      "       [11, 12]]), array([[ 5],\n",
      "       [ 9],\n",
      "       [13]]), array([[ 6],\n",
      "       [10],\n",
      "       [14]])]\n",
      "[array([[ 3],\n",
      "       [ 7],\n",
      "       [11]]), array([[ 4],\n",
      "       [ 8],\n",
      "       [12]]), array([[ 5],\n",
      "       [ 9],\n",
      "       [13]]), array([[ 6],\n",
      "       [10],\n",
      "       [14]])]\n",
      "[array([[3, 4, 5, 6]]), array([[ 7,  8,  9, 10]]), array([[11, 12, 13, 14]])]\n"
     ]
    }
   ],
   "source": [
    "# numpy array分割\n",
    "A = np.arange(3, 15).reshape((3, 4))\n",
    "print(A)\n",
    "# 平均分割\n",
    "# 纵向分割\n",
    "print(np.split(A, 2, axis=1))\n",
    "# 横向分割\n",
    "print(np.split(A, 3, axis=0))\n",
    "# 不平均分割\n",
    "print(np.array_split(A, 3, axis=1))\n",
    "# 列分割\n",
    "print(np.hsplit(A, 4))\n",
    "# 行分割\n",
    "print(np.vsplit(A, 3))"
   ]
  },
  {
   "cell_type": "code",
   "execution_count": 100,
   "metadata": {},
   "outputs": [
    {
     "name": "stdout",
     "output_type": "stream",
     "text": [
      "[[ 3  4  5  6]\n",
      " [ 7  8  9 10]\n",
      " [11 12 13 14]]\n",
      "[[ 2  4  5  6]\n",
      " [ 7  8  9 10]\n",
      " [11 12 13 14]]\n",
      "[[ 2  4  5  6]\n",
      " [ 7  8  9 10]\n",
      " [11 12 13 14]]\n",
      "True\n",
      "[[ 9  4  5  6]\n",
      " [ 7  8  9 10]\n",
      " [11 12 13 14]]\n",
      "[[ 2  4  5  6]\n",
      " [ 7  8  9 10]\n",
      " [11 12 13 14]]\n",
      "False\n"
     ]
    }
   ],
   "source": [
    "# numpy copy & deep copy\n",
    "# 使用=浅拷贝\n",
    "a = np.arange(3, 15).reshape((3, 4))\n",
    "print(a)\n",
    "b = a\n",
    "a[0, 0] = 2\n",
    "print(a)\n",
    "print(b)\n",
    "print(b is a)  # => True\n",
    "# 使用copy()深拷贝\n",
    "c = a.copy()\n",
    "a[0, 0] = 9\n",
    "print(a)\n",
    "print(c)\n",
    "print(a is c)  # => False"
   ]
  }
 ],
 "metadata": {
  "kernelspec": {
   "display_name": "Python 3",
   "language": "python",
   "name": "python3"
  },
  "language_info": {
   "codemirror_mode": {
    "name": "ipython",
    "version": 3
   },
   "file_extension": ".py",
   "mimetype": "text/x-python",
   "name": "python",
   "nbconvert_exporter": "python",
   "pygments_lexer": "ipython3",
   "version": "3.6.5"
  }
 },
 "nbformat": 4,
 "nbformat_minor": 2
}
